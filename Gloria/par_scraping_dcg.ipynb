{
 "cells": [
  {
   "cell_type": "markdown",
   "metadata": {},
   "source": [
    "# Scraping DCG.media"
   ]
  },
  {
   "cell_type": "code",
   "execution_count": 1,
   "metadata": {},
   "outputs": [],
   "source": [
    "### SCRAPING\n",
    "import requests as rq\n",
    "from bs4 import BeautifulSoup\n",
    "\n",
    "### DATABASES\n",
    "import pandas as pd\n",
    "import numpy as np\n",
    "from ydata_profiling import ProfileReport\n",
    "\n",
    "### VISUALISATION\n",
    "import plotly.express as px\n",
    "\n",
    "### DIVERS\n",
    "from tqdm.notebook import tqdm\n",
    "\n",
    "### FORMAT\n",
    "from datetime import datetime, timezone\n",
    "import time\n",
    "import json"
   ]
  },
  {
   "cell_type": "markdown",
   "metadata": {},
   "source": [
    "## Définition des variables"
   ]
  },
  {
   "cell_type": "code",
   "execution_count": 2,
   "metadata": {},
   "outputs": [],
   "source": [
    "website = 'aboutir-emploi'\n",
    "abbr = 'abe'\n",
    "tld = '.fr'"
   ]
  },
  {
   "cell_type": "code",
   "execution_count": 3,
   "metadata": {},
   "outputs": [],
   "source": [
    "page_number = 1\n",
    "top_url = f'https://www.{website+tld}'\n",
    "top_search_url = f'{top_url}/page/{page_number}/?s'"
   ]
  },
  {
   "cell_type": "markdown",
   "metadata": {},
   "source": [
    "## Définition des fonctions"
   ]
  },
  {
   "cell_type": "markdown",
   "metadata": {},
   "source": [
    "### Obtenir le nombre de pages de résultats de recherche"
   ]
  },
  {
   "cell_type": "code",
   "execution_count": 4,
   "metadata": {},
   "outputs": [
    {
     "data": {
      "text/plain": [
       "5"
      ]
     },
     "execution_count": 4,
     "metadata": {},
     "output_type": "execute_result"
    }
   ],
   "source": [
    "def get_max_page_results(top_search_url):\n",
    "    r = rq.get(top_search_url)\n",
    "    soup = BeautifulSoup(r.content)\n",
    "    page_numbers = soup.find_all(\"a\", class_=\"page-numbers\")\n",
    "    pages = [int(page.text) for page in page_numbers if page.text.isdigit()]\n",
    "    if pages:\n",
    "        return max(pages)  # Le numéro le plus élevé correspond au total de pages\n",
    "    return 1\n",
    "get_max_page_results(top_search_url)"
   ]
  },
  {
   "cell_type": "markdown",
   "metadata": {},
   "source": [
    "### Obtenir la liste des pages de résultats de recherche"
   ]
  },
  {
   "cell_type": "code",
   "execution_count": 5,
   "metadata": {},
   "outputs": [
    {
     "data": {
      "text/plain": [
       "['https://www.aboutir-emploi.fr/page/1/?s',\n",
       " 'https://www.aboutir-emploi.fr/page/2/?s',\n",
       " 'https://www.aboutir-emploi.fr/page/3/?s',\n",
       " 'https://www.aboutir-emploi.fr/page/4/?s',\n",
       " 'https://www.aboutir-emploi.fr/page/5/?s']"
      ]
     },
     "execution_count": 5,
     "metadata": {},
     "output_type": "execute_result"
    }
   ],
   "source": [
    "def get_all_results_pages(page_final):\n",
    "    urls = []\n",
    "    for i in range(page_final):\n",
    "        i = f'{top_url}/page/{i+1}/?s'\n",
    "        urls.append(i)\n",
    "    return urls\n",
    "get_all_results_pages(get_max_page_results(top_search_url))"
   ]
  },
  {
   "cell_type": "markdown",
   "metadata": {},
   "source": [
    "### Obtenir tous les liens des articles sur une page de recherche"
   ]
  },
  {
   "cell_type": "code",
   "execution_count": 6,
   "metadata": {},
   "outputs": [],
   "source": [
    "def get_articles_on_page(search_results):\n",
    "    urls_articles = []\n",
    "    s = rq.Session()\n",
    "    for p in tqdm(search_results):\n",
    "        r = s.get(p)\n",
    "        soup = BeautifulSoup(r.content)\n",
    "        articles = soup.find_all('h2', class_ = 'title')\n",
    "        for article in articles:\n",
    "            url = article.find('a', href=True)['href']\n",
    "            urls_articles.append(url)\n",
    "    return urls_articles"
   ]
  },
  {
   "cell_type": "code",
   "execution_count": 7,
   "metadata": {},
   "outputs": [
    {
     "data": {
      "application/vnd.jupyter.widget-view+json": {
       "model_id": "5c7f34adcd704882b938163954cfd4d9",
       "version_major": 2,
       "version_minor": 0
      },
      "text/plain": [
       "  0%|          | 0/5 [00:00<?, ?it/s]"
      ]
     },
     "metadata": {},
     "output_type": "display_data"
    },
    {
     "data": {
      "text/plain": [
       "['https://www.aboutir-emploi.fr/preparation-efficace-pour-le-concours-de-leducation-nationale-conseils-et-strategies/',\n",
       " 'https://www.aboutir-emploi.fr/optimiser-sa-recherche-demploi-a-pole-emploi-celleneuve-astuces-et-conseils/',\n",
       " 'https://www.aboutir-emploi.fr/zoom-sur-supplay-la-verpilliere-lagence-dinterim-qui-fait-la-difference/',\n",
       " 'https://www.aboutir-emploi.fr/demystifier-lensap-reims-comprendre-et-utiliser-la-plateforme/',\n",
       " 'https://www.aboutir-emploi.fr/decouvrez-les-fonctionnalites-cachees-di-prof-strasbourg/',\n",
       " 'https://www.aboutir-emploi.fr/paye-aed-2024-conseils-pour-bien-anticiper-vos-echeances/',\n",
       " 'https://www.aboutir-emploi.fr/comprendre-et-rediger-efficacement-un-ordre-de-mission-des-exemples-concrets-pour-vous-aider/',\n",
       " 'https://www.aboutir-emploi.fr/comment-optimiser-votre-recherche-demploi-a-pole-emploi-harfleur-conseils-et-astuces/',\n",
       " 'https://www.aboutir-emploi.fr/comment-la-touraine-e-school-reinvente-la-pedagogie-en-ligne/',\n",
       " 'https://www.aboutir-emploi.fr/les-ecueils-a-esquiver-dans-le-sujet-bce-2024-recommandations-dexperts/',\n",
       " 'https://www.aboutir-emploi.fr/lettre-de-demission-lycee-les-etapes-pour-une-redaction-irreprochable/',\n",
       " 'https://www.aboutir-emploi.fr/comment-etupass-facilite-la-vie-academique-a-luniversite-de-caen/',\n",
       " 'https://www.aboutir-emploi.fr/devenir-mentaliste-techniques-et-astuces-pour-maitriser-lart-de-la-suggestion/',\n",
       " 'https://www.aboutir-emploi.fr/optimisez-votre-candidature-avec-ecandidat-lyon-astuces-et-conseils-pratiques/',\n",
       " 'https://www.aboutir-emploi.fr/formation-pendant-un-conge-parental-droits-et-modalites-pratiques/',\n",
       " 'https://www.aboutir-emploi.fr/signification-des-niveaux-ouvrier-qualifie-p1-p2-explications-detaillees/',\n",
       " 'https://www.aboutir-emploi.fr/avantages-et-defis-des-aesh-soutien-aux-eleves-handicapes/',\n",
       " 'https://www.aboutir-emploi.fr/arret-jamart-1936-impact-en-droit-administratif-et-decryptage/',\n",
       " 'https://www.aboutir-emploi.fr/bts-ndrc-metiers-en-demande-et-bien-remuneres-decouvrez-les-opportunites/',\n",
       " 'https://www.aboutir-emploi.fr/quel-est-le-salaire-net-dune-atsem/',\n",
       " 'https://www.aboutir-emploi.fr/ent-rouen-se-connecter-en-ligne/',\n",
       " 'https://www.aboutir-emploi.fr/comment-devenir-agent-immobilier-iad/',\n",
       " 'https://www.aboutir-emploi.fr/comment-calculer-le-cout-global-dun-salarie/',\n",
       " 'https://www.aboutir-emploi.fr/comment-optimiser-votre-formation-pour-un-cv-attractif/',\n",
       " 'https://www.aboutir-emploi.fr/apprendre-a-rediger-une-lettre-de-motivation-percutante-pour-un-stage-de-3eme/',\n",
       " 'https://www.aboutir-emploi.fr/rediger-une-lettre-de-motivation-gagnante-pour-un-poste-danimateur-de-centre-de-loisirs/',\n",
       " 'https://www.aboutir-emploi.fr/les-etapes-cles-pour-realiser-un-abandon-de-poste-sans-risquer-les-consequences-legales/',\n",
       " 'https://www.aboutir-emploi.fr/accompagnement-a-poitiers-optimiser-lapprentissage-a-domicile/',\n",
       " 'https://www.aboutir-emploi.fr/gestion-de-la-messagerie-academique-de-caen-conseils-pour-une-utilisation-optimale/',\n",
       " 'https://www.aboutir-emploi.fr/argos-2-0-un-outil-pedagogique-visionnaire/',\n",
       " 'https://www.aboutir-emploi.fr/tableau-des-declinaisons-en-allemand-astuces-pour-une-memorisation-efficiente/',\n",
       " 'https://www.aboutir-emploi.fr/acceder-a-toutatice-le-portail-educatif-de-bretagne/',\n",
       " 'https://www.aboutir-emploi.fr/comment-devenir-technicien-fibre-optique-en-auto-entrepreneur/',\n",
       " 'https://www.aboutir-emploi.fr/types-darguments-en-argumentation-maitrisez-les-4-principaux/',\n",
       " 'https://www.aboutir-emploi.fr/decouvrir-sa-carriere-avec-parcoureo-fr-fonctionnement-de-la-plateforme/',\n",
       " 'https://www.aboutir-emploi.fr/metiers-lucratifs-apres-le-bac-st2s-demandes-elevees-et-salaires-attractifs/',\n",
       " 'https://www.aboutir-emploi.fr/droit-aux-vacances-en-bts-alternance-vos-interrogations-clarifiees/',\n",
       " 'https://www.aboutir-emploi.fr/coaching-mental-efficace-strategies-bienfaits-et-conseils-pratiques/',\n",
       " 'https://www.aboutir-emploi.fr/reussir-le-test-psychotechnique-sncf-astuces-et-conseils-pratiques/',\n",
       " 'https://www.aboutir-emploi.fr/comprendre-la-methode-nerac-avantages-et-fonctionnement-efficace/',\n",
       " 'https://www.aboutir-emploi.fr/ou-trouver-les-offres-demploi-de-pole-emploi/',\n",
       " 'https://www.aboutir-emploi.fr/cest-quoi-un-bon-relationnel/',\n",
       " 'https://www.aboutir-emploi.fr/quelles-sont-vos-connaissances-en-informatique/',\n",
       " 'https://www.aboutir-emploi.fr/qui-ma-permis-ou-permise/',\n",
       " 'https://www.aboutir-emploi.fr/quelle-est-la-meilleure-formation-en-dropshipping-aujourdhui/',\n",
       " 'https://www.aboutir-emploi.fr/perfectionner-ses-competences-les-secrets-de-lapprentissage-mecanique-auto/',\n",
       " 'https://www.aboutir-emploi.fr/trouver-la-meilleure-boite-dinterim-au-havre-conseils-et-astuces/',\n",
       " 'https://www.aboutir-emploi.fr/les-avantages-inattendus-dun-bts-en-alternance-pour-votre-carriere/',\n",
       " 'https://www.aboutir-emploi.fr/comprendre-la-grille-indiciaire-dadjoint-technique-territorial-aspects-cles-et-implications/',\n",
       " 'https://www.aboutir-emploi.fr/land-your-dream-job-les-meilleures-offres-demploi-a-mulhouse/',\n",
       " 'https://www.aboutir-emploi.fr/comment-devenir-agent-immobilier-iad/',\n",
       " 'https://www.aboutir-emploi.fr/quelles-sont-vos-connaissances-en-informatique/',\n",
       " 'https://www.aboutir-emploi.fr/cest-quoi-une-classe-preparatoire/',\n",
       " 'https://www.aboutir-emploi.fr/cest-quoi-un-bon-relationnel/',\n",
       " 'https://www.aboutir-emploi.fr/quelle-est-la-meilleure-formation-en-dropshipping-aujourdhui/',\n",
       " 'https://www.aboutir-emploi.fr/preparation-efficace-pour-le-concours-de-leducation-nationale-conseils-et-strategies/',\n",
       " 'https://www.aboutir-emploi.fr/optimiser-sa-recherche-demploi-a-pole-emploi-celleneuve-astuces-et-conseils/',\n",
       " 'https://www.aboutir-emploi.fr/zoom-sur-supplay-la-verpilliere-lagence-dinterim-qui-fait-la-difference/',\n",
       " 'https://www.aboutir-emploi.fr/demystifier-lensap-reims-comprendre-et-utiliser-la-plateforme/',\n",
       " 'https://www.aboutir-emploi.fr/decouvrez-les-fonctionnalites-cachees-di-prof-strasbourg/',\n",
       " 'https://www.aboutir-emploi.fr/les-services-de-protection-du-european-group-en-detail/',\n",
       " 'https://www.aboutir-emploi.fr/construire-un-curriculum-vitae-de-comptable-irresistible-astuces-et-conseils-essentiels/',\n",
       " 'https://www.aboutir-emploi.fr/impact-du-decret-tertiaire-sur-les-differentes-industries-analyse-sectorielle/',\n",
       " 'https://www.aboutir-emploi.fr/demystifier-linscription-a-pole-emploi-quels-documents-preparer/',\n",
       " 'https://www.aboutir-emploi.fr/exploiter-pleinement-toutatice-educonnect-pour-les-enseignants/',\n",
       " 'https://www.aboutir-emploi.fr/quels-sont-les-meilleurs-masters-de-droit/',\n",
       " 'https://www.aboutir-emploi.fr/optimiser-lexperience-eleve-avec-les-outils-de-scolinfo/',\n",
       " 'https://www.aboutir-emploi.fr/sieges-ballons-une-revolution-pour-le-confort-au-bureau/',\n",
       " 'https://www.aboutir-emploi.fr/incoterm-fob-avantages-et-inconvenients-pour-importateurs-et-exportateurs/',\n",
       " 'https://www.aboutir-emploi.fr/datif-allemand-les-bevues-frequentes-a-proscrire-imperativement/',\n",
       " 'https://www.aboutir-emploi.fr/comment-concilier-etudes-et-travail-les-meilleures-solutions-pour-les-etudiants/',\n",
       " 'https://www.aboutir-emploi.fr/exploration-des-metiers-en-n-guide-pratique/',\n",
       " 'https://www.aboutir-emploi.fr/comprendre-le-systeme-de-remuneration-dun-surveillant-de-lycee-ce-quil-faut-savoir/',\n",
       " 'https://www.aboutir-emploi.fr/cest-quoi-une-classe-preparatoire/',\n",
       " 'https://www.aboutir-emploi.fr/travailler-dans-le-secteur-associatif-opportunites-et-perspectives-a-metz/',\n",
       " 'https://www.aboutir-emploi.fr/les-etapes-essentielles-pour-reussir-sa-candidature-dans-le-secteur-nucleaire/',\n",
       " 'https://www.aboutir-emploi.fr/comment-optimiser-votre-carriere-grace-a-lapprentissage-continu-et-en-alternance/',\n",
       " 'https://www.aboutir-emploi.fr/lassistance-de-lia-pour-etre-toujours-plus-productif-au-travail/',\n",
       " 'https://www.aboutir-emploi.fr/choisir-sa-business-school-a-lyon-criteres-et-temoignages-detudiants/',\n",
       " 'https://www.aboutir-emploi.fr/ameliorer-ses-competences-en-leadership-les-meilleures-formations-en-management-disponibles/',\n",
       " 'https://www.aboutir-emploi.fr/optimiser-sa-recherche-les-meilleures-offres-demploi-pour-personnes-reconnues-travailleuses-handicapees/',\n",
       " 'https://www.aboutir-emploi.fr/se-preparer-pour-une-carriere-enrichissante-tout-sur-lecole-deducatrice-specialisee/',\n",
       " 'https://www.aboutir-emploi.fr/les-metiers-en-l-quels-debouches-et-opportunites-de-developpement/',\n",
       " 'https://www.aboutir-emploi.fr/explorez-les-metiers-en-j-des-professions-passionnantes/',\n",
       " 'https://www.aboutir-emploi.fr/metier-en-k-temoignages-inspirants-de-professionnels-du-secteur/',\n",
       " 'https://www.aboutir-emploi.fr/optimisez-votre-parcours-educatif-avec-mycampus-eduservices/',\n",
       " 'https://www.aboutir-emploi.fr/optimiser-votre-carriere-tout-savoir-sur-le-conge-pour-convenance-personnelle/',\n",
       " 'https://www.aboutir-emploi.fr/exploration-de-leducation-nationale-de-larene-un-regard-approfondi/',\n",
       " 'https://www.aboutir-emploi.fr/les-nombreux-benefices-de-la-formation-en-entreprise-pour-les-employes/',\n",
       " 'https://www.aboutir-emploi.fr/changer-de-metier-a-40-ans-ce-quil-faut-savoir/',\n",
       " 'https://www.aboutir-emploi.fr/carte-mentale-utilisation-et-avantages-pour-lorganisation-des-idees/',\n",
       " 'https://www.aboutir-emploi.fr/periode-dessai-en-apprentissage-duree-rupture-et-indemnites-expliquees/',\n",
       " 'https://www.aboutir-emploi.fr/devenir-copywriter-competences-formation-et-carriere-en-redaction/',\n",
       " 'https://www.aboutir-emploi.fr/devenir-conseiller-dorientation-etapes-cles-et-formation-requise/',\n",
       " 'https://www.aboutir-emploi.fr/pourquoi-realiser-un-bilan-daptitudes-professionnelles-des-maintenant/',\n",
       " 'https://www.aboutir-emploi.fr/orthopedagogie-expliquee-comprendre-son-impact-sur-lapprentissage/',\n",
       " 'https://www.aboutir-emploi.fr/numero-cpf-comment-le-trouver-et-a-quoi-il-sert/',\n",
       " 'https://www.aboutir-emploi.fr/decouvrir-sa-vocation-astuces-et-etapes-pour-une-carriere-epanouie/',\n",
       " 'https://www.aboutir-emploi.fr/les-avantages-et-les-inconvenients-du-contrat-de-professionnalisation/',\n",
       " 'https://www.aboutir-emploi.fr/comment-decrypter-une-offre-demploi/',\n",
       " 'https://www.aboutir-emploi.fr/massachusetts-institute-of-technology-decouvrez-le-mit-et-son-impact/',\n",
       " 'https://www.aboutir-emploi.fr/redaction-lettre-de-motivation-eviter-les-erreurs-courantes/',\n",
       " 'https://www.aboutir-emploi.fr/refus-de-financement-par-pole-emploi-comprendre-les-raisons-et-agir/',\n",
       " 'https://www.aboutir-emploi.fr/bts-sam-gestion-de-projet-methodes-et-astuces-pour-reussir/',\n",
       " 'https://www.aboutir-emploi.fr/conversion-essentielle-comment-passer-du-gramme-au-kilo-facilement/',\n",
       " 'https://www.aboutir-emploi.fr/coach-de-vie-parcours-competences-et-conseils-pour-reussir/',\n",
       " 'https://www.aboutir-emploi.fr/manuels-et-livres-adaptes-pour-dyslexiques-decouvrez-bookin/',\n",
       " 'https://www.aboutir-emploi.fr/comment-postuler-a-une-offre-demploi-disponible-en-ligne/',\n",
       " 'https://www.aboutir-emploi.fr/comment-sappelle-le-salaire-dun-pdg/',\n",
       " 'https://www.aboutir-emploi.fr/les-meilleures-strategies-pour-maximiser-votre-recherche-de-formation/',\n",
       " 'https://www.aboutir-emploi.fr/comment-devenir-agent-immobilier-iad/',\n",
       " 'https://www.aboutir-emploi.fr/quelles-sont-vos-connaissances-en-informatique/',\n",
       " 'https://www.aboutir-emploi.fr/cest-quoi-une-classe-preparatoire/',\n",
       " 'https://www.aboutir-emploi.fr/cest-quoi-un-bon-relationnel/',\n",
       " 'https://www.aboutir-emploi.fr/quelle-est-la-meilleure-formation-en-dropshipping-aujourdhui/',\n",
       " 'https://www.aboutir-emploi.fr/preparation-efficace-pour-le-concours-de-leducation-nationale-conseils-et-strategies/',\n",
       " 'https://www.aboutir-emploi.fr/optimiser-sa-recherche-demploi-a-pole-emploi-celleneuve-astuces-et-conseils/',\n",
       " 'https://www.aboutir-emploi.fr/zoom-sur-supplay-la-verpilliere-lagence-dinterim-qui-fait-la-difference/',\n",
       " 'https://www.aboutir-emploi.fr/demystifier-lensap-reims-comprendre-et-utiliser-la-plateforme/',\n",
       " 'https://www.aboutir-emploi.fr/decouvrez-les-fonctionnalites-cachees-di-prof-strasbourg/',\n",
       " 'https://www.aboutir-emploi.fr/comment-faire-pour-devenir-gardien-de-la-paix/',\n",
       " 'https://www.aboutir-emploi.fr/les-competences-comportementales-indispensables-pour-une-reussite-professionnelle-eclatante/',\n",
       " 'https://www.aboutir-emploi.fr/creer-un-programme-de-formation-personnalise-selon-les-besoins-de-votre-entreprise/',\n",
       " 'https://www.aboutir-emploi.fr/les-multiples-benefices-de-la-formation-continue-pour-votre-evolution-professionnelle/',\n",
       " 'https://www.aboutir-emploi.fr/les-competences-essentielles-pour-faire-decoller-votre-carriere/',\n",
       " 'https://www.aboutir-emploi.fr/les-methodes-pedagogiques-en-formation-quelles-sont-les-meilleures-approches/',\n",
       " 'https://www.aboutir-emploi.fr/les-benefices-des-formations-en-ligne-pour-les-entreprises/',\n",
       " 'https://www.aboutir-emploi.fr/decouvrez-les-multiples-facettes-des-certifications-professionnelles/',\n",
       " 'https://www.aboutir-emploi.fr/formation-en-entreprise-et-defis-du-digital-les-enjeux-actuels-a-connaitre/',\n",
       " 'https://www.aboutir-emploi.fr/les-enjeux-et-perspectives-des-programmes-de-formation-pour-les-demandeurs-demploi/',\n",
       " 'https://www.aboutir-emploi.fr/trouver-un-emploi-a-ales-conseils-et-astuces-pour-reussir-sa-recherche/',\n",
       " 'https://www.aboutir-emploi.fr/trouver-un-emploi-a-ales-conseils-offres-et-recrutement/',\n",
       " 'https://www.aboutir-emploi.fr/le-manager-un-acteur-cle-dans-la-formation-et-levolution-des-competences-de-ses-collaborateurs/',\n",
       " 'https://www.aboutir-emploi.fr/mettre-en-avant-ses-formations-dans-son-cv-et-lors-dun-entretien-dembauche-conseils-et-astuces-a-suivre/',\n",
       " 'https://www.aboutir-emploi.fr/les-competences-incontournables-prisees-par-les-recruteurs-aujourdhui/',\n",
       " 'https://www.aboutir-emploi.fr/les-dispositifs-de-financement-de-la-formation-professionnelle-a-connaitre-absolument/',\n",
       " 'https://www.aboutir-emploi.fr/les-nouvelles-orientations-dans-le-secteur-de-la-formation-professionnelle/',\n",
       " 'https://www.aboutir-emploi.fr/trouver-la-formation-ideale-pour-reussir-dans-sa-carriere/',\n",
       " 'https://www.aboutir-emploi.fr/les-dernieres-tendances-en-matiere-de-formation-professionnelle-pour-rester-competitif/',\n",
       " 'https://www.aboutir-emploi.fr/les-cles-pour-booster-son-employabilite-grace-a-des-formations-specialisees/',\n",
       " 'https://www.aboutir-emploi.fr/les-meilleures-strategies-pour-financer-votre-formation-professionnelle-efficacement/',\n",
       " 'https://www.aboutir-emploi.fr/formations-diplomantes-ou-certifiantes-les-avantages-et-inconvenients-a-connaitre/',\n",
       " 'https://www.aboutir-emploi.fr/tout-ce-quil-faut-savoir-pour-devenir-agent-immobilier/',\n",
       " 'https://www.aboutir-emploi.fr/pourquoi-choisir-la-voie-technique-au-lycee/',\n",
       " 'https://www.aboutir-emploi.fr/les-meilleurs-choix-de-formations-gratuites-en-ligne-pour-developper-vos-competences/',\n",
       " 'https://www.aboutir-emploi.fr/decouvrez-les-meilleures-formations-gratuites-et-certifiantes-en-ligne/',\n",
       " 'https://www.aboutir-emploi.fr/quels-sont-les-differents-metiers-les-plus-recherches-sur-les-sites-demplois/',\n",
       " 'https://www.aboutir-emploi.fr/les-avantages-des-formations-en-ligne-pour-une-flexibilite-et-un-budget-maitrises/',\n",
       " 'https://www.aboutir-emploi.fr/les-nombreux-benefices-de-la-formation-continue-pour-les-salaries/',\n",
       " 'https://www.aboutir-emploi.fr/les-cles-de-la-reussite-dune-reconversion-professionnelle-et-les-formations-adaptees/',\n",
       " 'https://www.aboutir-emploi.fr/les-formations-professionnelles-du-futur-vers-une-revolution-dans-lacquisition-de-competences/',\n",
       " 'https://www.aboutir-emploi.fr/les-competences-essentielles-pour-atteindre-le-succes-dans-ta-carriere/',\n",
       " 'https://www.aboutir-emploi.fr/developpez-vos-competences-essentielles-pour-decrocher-le-job-de-vos-reves/',\n",
       " 'https://www.aboutir-emploi.fr/formations-populaires-pour-exceller-dans-le-secteur-du-digital-guide-complet/',\n",
       " 'https://www.aboutir-emploi.fr/reconversion-professionnelle-limportance-cruciale-de-la-formation-pour-reussir/',\n",
       " 'https://www.aboutir-emploi.fr/limpact-decisif-de-la-formation-continue-sur-lemployabilite-des-travailleurs/',\n",
       " 'https://www.aboutir-emploi.fr/les-nombreux-benefices-des-formations-en-ligne-et-des-plateformes-dapprentissage-a-distance/',\n",
       " 'https://www.aboutir-emploi.fr/trouver-la-formation-ideale-pour-se-perfectionner-dans-son-secteur-dactivite/',\n",
       " 'https://www.aboutir-emploi.fr/criteres-essentiels-pour-choisir-une-ecole-ou-un-organisme-de-formation-de-qualite/',\n",
       " 'https://www.aboutir-emploi.fr/les-benefices-incontournables-de-la-formation-continue-pour-le-developpement-des-competences-des-employes/',\n",
       " 'https://www.aboutir-emploi.fr/decouvrez-lefficacite-des-formations-en-ligne-pour-booster-vos-competences/',\n",
       " 'https://www.aboutir-emploi.fr/optimisation-de-la-productivite-des-employes-grace-a-la-formation-une-etude-detaillee/',\n",
       " 'https://www.aboutir-emploi.fr/les-nouvelles-technologies-lavenir-de-lapprentissage-et-de-la-formation/',\n",
       " 'https://www.aboutir-emploi.fr/les-astuces-pour-selectionner-la-formation-ideale-et-propulser-sa-carriere/',\n",
       " 'https://www.aboutir-emploi.fr/les-avantages-des-certifications-professionnelles-pour-les-salaries-et-les-employeurs/',\n",
       " 'https://www.aboutir-emploi.fr/limpact-essentiel-de-la-formation-continue-sur-le-developpement-professionnel/',\n",
       " 'https://www.aboutir-emploi.fr/quest-ce-quun-projet-de-transition-professionnelle/',\n",
       " 'https://www.aboutir-emploi.fr/les-secrets-dune-planification-efficace-pour-la-formation-en-entreprise/',\n",
       " 'https://www.aboutir-emploi.fr/les-meilleures-formations-pour-une-reconversion-professionnelle-reussie/',\n",
       " 'https://www.aboutir-emploi.fr/limpact-de-la-formation-sur-les-competences-des-salaries-et-la-reussite-de-lentreprise/',\n",
       " 'https://www.aboutir-emploi.fr/comment-devenir-agent-immobilier-iad/',\n",
       " 'https://www.aboutir-emploi.fr/quelles-sont-vos-connaissances-en-informatique/',\n",
       " 'https://www.aboutir-emploi.fr/cest-quoi-une-classe-preparatoire/',\n",
       " 'https://www.aboutir-emploi.fr/cest-quoi-un-bon-relationnel/',\n",
       " 'https://www.aboutir-emploi.fr/quelle-est-la-meilleure-formation-en-dropshipping-aujourdhui/',\n",
       " 'https://www.aboutir-emploi.fr/preparation-efficace-pour-le-concours-de-leducation-nationale-conseils-et-strategies/',\n",
       " 'https://www.aboutir-emploi.fr/optimiser-sa-recherche-demploi-a-pole-emploi-celleneuve-astuces-et-conseils/',\n",
       " 'https://www.aboutir-emploi.fr/zoom-sur-supplay-la-verpilliere-lagence-dinterim-qui-fait-la-difference/',\n",
       " 'https://www.aboutir-emploi.fr/demystifier-lensap-reims-comprendre-et-utiliser-la-plateforme/',\n",
       " 'https://www.aboutir-emploi.fr/decouvrez-les-fonctionnalites-cachees-di-prof-strasbourg/',\n",
       " 'https://www.aboutir-emploi.fr/mesurer-le-succes-dune-formation-en-entreprise-les-cles-de-levaluation/',\n",
       " 'https://www.aboutir-emploi.fr/les-meilleures-ressources-gratuites-pour-se-former-sans-depenser-un-centime/',\n",
       " 'https://www.aboutir-emploi.fr/decouvrez-les-meilleurs-systemes-de-gestion-de-lapprentissage-en-ligne/',\n",
       " 'https://www.aboutir-emploi.fr/lessentiel-de-la-formation-continue-pour-rester-competitif-sur-le-marche-du-travail/',\n",
       " 'https://www.aboutir-emploi.fr/les-competences-essentielles-pour-progresser-dans-sa-specialite/',\n",
       " 'https://www.aboutir-emploi.fr/les-competences-comportementales-incontournables-pour-une-carriere-professionnelle-reussie/',\n",
       " 'https://www.aboutir-emploi.fr/evaluation-efficace-de-limpact-de-la-formation-sur-les-performances-des-employes/',\n",
       " 'https://www.aboutir-emploi.fr/les-dispositifs-daide-a-la-formation-professionnelle-un-atout-majeur-pour-votre-carriere/',\n",
       " 'https://www.aboutir-emploi.fr/formation-presentielle-vs-formation-en-ligne-comparaison-des-avantages-et-inconvenients/',\n",
       " 'https://www.aboutir-emploi.fr/trouver-un-emploi-a-morlaix-astuces-et-conseils-pour-optimiser-sa-recherche/',\n",
       " 'https://www.aboutir-emploi.fr/les-dernieres-evolutions-pedagogiques-dans-la-formation-professionnelle/',\n",
       " 'https://www.aboutir-emploi.fr/la-formation-en-detailing-que-retenir/',\n",
       " 'https://www.aboutir-emploi.fr/les-formations-en-ligne-une-methode-flexible-pour-apprendre-a-son-rythme/',\n",
       " 'https://www.aboutir-emploi.fr/les-cles-pour-reussir-sa-formation-en-entreprise-conseils-et-astuces-indispensables/',\n",
       " 'https://www.aboutir-emploi.fr/les-meilleures-astuces-pour-une-synthese-de-stage-reussie/',\n",
       " 'https://www.aboutir-emploi.fr/qui-peut-sinscrire-au-pole-emploi/',\n",
       " 'https://www.aboutir-emploi.fr/lenneagramme-ce-quil-faut-savoir/',\n",
       " 'https://www.aboutir-emploi.fr/comment-postuler-a-une-offre-demploi/',\n",
       " 'https://www.aboutir-emploi.fr/les-nouvelles-tendances-de-la-formation-en-entreprise-pour-ameliorer-la-competitivite/',\n",
       " 'https://www.aboutir-emploi.fr/les-cles-pour-selectionner-une-formation-adaptee-a-vos-collaborateurs/',\n",
       " 'https://www.aboutir-emploi.fr/comment-devenir-expert-en-sinistre/',\n",
       " 'https://www.aboutir-emploi.fr/le-lms-quest-ce-que-cest/',\n",
       " 'https://www.aboutir-emploi.fr/comment-choisir-un-centre-devaluation-des-competences/',\n",
       " 'https://www.aboutir-emploi.fr/comment-proceder-a-une-rupture-conventionnelle/',\n",
       " 'https://www.aboutir-emploi.fr/qui-paie-le-bilan-de-competences/',\n",
       " 'https://www.aboutir-emploi.fr/comment-demander-un-stage-de-3eme/',\n",
       " 'https://www.aboutir-emploi.fr/comment-un-etf-replique-t-il-son-indice/',\n",
       " 'https://www.aboutir-emploi.fr/quel-est-le-tarif-dun-expert-comptable-a-lille/',\n",
       " 'https://www.aboutir-emploi.fr/comment-se-reconvertir-dans-limmobilier-avec-succes/',\n",
       " 'https://www.aboutir-emploi.fr/growth-hacking-les-utilites-du-procede-pour-les-entreprises/',\n",
       " 'https://www.aboutir-emploi.fr/les-regles-dor-de-linvestissement-en-bourse/',\n",
       " 'https://www.aboutir-emploi.fr/quelle-formation-en-management-choisir/',\n",
       " 'https://www.aboutir-emploi.fr/6-conseils-pour-obtenir-des-clients-en-tant-quindependant/',\n",
       " 'https://www.aboutir-emploi.fr/bts-en-commerce-international-quelles-sont-les-opportunites-en-fin-de-formation/',\n",
       " 'https://www.aboutir-emploi.fr/pourquoi-postuler-pour-travailler-a-tellis/',\n",
       " 'https://www.aboutir-emploi.fr/crypto-et-paiement-electronique-des-chiffres-prometteurs/',\n",
       " 'https://www.aboutir-emploi.fr/une-formation-en-comptabilite-personnalisee/',\n",
       " 'https://www.aboutir-emploi.fr/pourquoi-maitriser-langlais-est-indispensable-en-entreprise/',\n",
       " 'https://www.aboutir-emploi.fr/apprenez-a-rediger-une-phrase-daccroche-efficace-pour-votre-cv/',\n",
       " 'https://www.aboutir-emploi.fr/comment-investir-dans-la-bourse-en-ligne-en-2023/',\n",
       " 'https://www.aboutir-emploi.fr/la-formation-de-peintre-en-batiment-comment-obtenir-les-meilleurs-resultats/',\n",
       " 'https://www.aboutir-emploi.fr/comment-se-reconvertir-vers-le-metier-de-mecanicien/',\n",
       " 'https://www.aboutir-emploi.fr/quelle-formation-pour-travailler-dans-le-secteur-du-numerique/',\n",
       " 'https://www.aboutir-emploi.fr/offre-demploi-top-5-des-meilleurs-sites-francais-a-consulter/',\n",
       " 'https://www.aboutir-emploi.fr/quelle-entreprise-ouvrir-sans-diplome/',\n",
       " 'https://www.aboutir-emploi.fr/comment-savoir-si-on-est-un-bon-entrepreneur-2/',\n",
       " 'https://www.aboutir-emploi.fr/comment-savoir-si-on-est-un-bon-entrepreneur/',\n",
       " 'https://www.aboutir-emploi.fr/quelles-sont-les-qualites-dun-chef-2/',\n",
       " 'https://www.aboutir-emploi.fr/quels-sont-les-competences-dun-chef-dentreprise/',\n",
       " 'https://www.aboutir-emploi.fr/comment-calculer-le-prorata-de-conges/',\n",
       " 'https://www.aboutir-emploi.fr/comment-devenir-agent-immobilier-iad/',\n",
       " 'https://www.aboutir-emploi.fr/quelles-sont-vos-connaissances-en-informatique/',\n",
       " 'https://www.aboutir-emploi.fr/cest-quoi-une-classe-preparatoire/',\n",
       " 'https://www.aboutir-emploi.fr/cest-quoi-un-bon-relationnel/',\n",
       " 'https://www.aboutir-emploi.fr/quelle-est-la-meilleure-formation-en-dropshipping-aujourdhui/',\n",
       " 'https://www.aboutir-emploi.fr/preparation-efficace-pour-le-concours-de-leducation-nationale-conseils-et-strategies/',\n",
       " 'https://www.aboutir-emploi.fr/optimiser-sa-recherche-demploi-a-pole-emploi-celleneuve-astuces-et-conseils/',\n",
       " 'https://www.aboutir-emploi.fr/zoom-sur-supplay-la-verpilliere-lagence-dinterim-qui-fait-la-difference/',\n",
       " 'https://www.aboutir-emploi.fr/demystifier-lensap-reims-comprendre-et-utiliser-la-plateforme/',\n",
       " 'https://www.aboutir-emploi.fr/decouvrez-les-fonctionnalites-cachees-di-prof-strasbourg/',\n",
       " 'https://www.aboutir-emploi.fr/voici-quelques-conseils-pour-vous-aider-a-trouver-un-bon-comptable/',\n",
       " 'https://www.aboutir-emploi.fr/decret-du-30-octobre-2021-prime-de-8-000e-pour-le-recrutement-dun-demandeur-demploi-de-longue-duree/',\n",
       " 'https://www.aboutir-emploi.fr/comment-remettre-a-sa-place-un-collegue/',\n",
       " 'https://www.aboutir-emploi.fr/comment-reussir-la-redaction-dune-lettre-de-motivation-professionnelle/',\n",
       " 'https://www.aboutir-emploi.fr/comment-maitriser-les-risques-industriels/',\n",
       " 'https://www.aboutir-emploi.fr/comment-maitriser-parfaitement-la-communication-positive/',\n",
       " 'https://www.aboutir-emploi.fr/savoir-parler-anglais-est-il-un-plus-en-entreprise/',\n",
       " 'https://www.aboutir-emploi.fr/quest-ce-que-le-social-selling/',\n",
       " 'https://www.aboutir-emploi.fr/faire-un-test-dorientation-professionnel-pour-un-metier-qui-me-convient/',\n",
       " 'https://www.aboutir-emploi.fr/emploi-et-e-reputation-ce-quil-faut-savoir/',\n",
       " 'https://www.aboutir-emploi.fr/comment-travailler-avec-des-freelances/',\n",
       " 'https://www.aboutir-emploi.fr/comment-organiser-le-travail-en-equipe/',\n",
       " 'https://www.aboutir-emploi.fr/comment-eviter-les-impayes/',\n",
       " 'https://www.aboutir-emploi.fr/comment-devenir-autoentrepreneur/',\n",
       " 'https://www.aboutir-emploi.fr/comment-devenir-agent-immobilier-iad/',\n",
       " 'https://www.aboutir-emploi.fr/quelles-sont-vos-connaissances-en-informatique/',\n",
       " 'https://www.aboutir-emploi.fr/cest-quoi-une-classe-preparatoire/',\n",
       " 'https://www.aboutir-emploi.fr/cest-quoi-un-bon-relationnel/',\n",
       " 'https://www.aboutir-emploi.fr/quelle-est-la-meilleure-formation-en-dropshipping-aujourdhui/',\n",
       " 'https://www.aboutir-emploi.fr/preparation-efficace-pour-le-concours-de-leducation-nationale-conseils-et-strategies/',\n",
       " 'https://www.aboutir-emploi.fr/optimiser-sa-recherche-demploi-a-pole-emploi-celleneuve-astuces-et-conseils/',\n",
       " 'https://www.aboutir-emploi.fr/zoom-sur-supplay-la-verpilliere-lagence-dinterim-qui-fait-la-difference/',\n",
       " 'https://www.aboutir-emploi.fr/demystifier-lensap-reims-comprendre-et-utiliser-la-plateforme/',\n",
       " 'https://www.aboutir-emploi.fr/decouvrez-les-fonctionnalites-cachees-di-prof-strasbourg/']"
      ]
     },
     "execution_count": 7,
     "metadata": {},
     "output_type": "execute_result"
    }
   ],
   "source": [
    "get_articles_on_page(get_all_results_pages(get_max_page_results(top_search_url)))"
   ]
  },
  {
   "cell_type": "markdown",
   "metadata": {},
   "source": [
    "### Récupérer les infos qu'on souhaite sur chaque article"
   ]
  },
  {
   "cell_type": "code",
   "execution_count": 8,
   "metadata": {},
   "outputs": [],
   "source": [
    "def get_article_info(r, url_article):\n",
    "    # Liste de variables\n",
    "    noms_variables = [\n",
    "        'url',  # URL scrapée\n",
    "        'canonical_url', 'slug', 'meta_title', 'meta_desc',  # Infos issues de la balise meta\n",
    "        'date_published', 'date_modified',  # Infos dates\n",
    "        'author',  # Parfois en meta\n",
    "        'title', 'category', 'views', 'reading_time',  # Metadonnées contenues ailleurs que dans la balise meta\n",
    "        'content', 'raw_content'  # Contenu de la page\n",
    "    ]\n",
    "    \n",
    "    # Initialisation du dictionnaire\n",
    "    data = {nom: np.nan for nom in noms_variables}\n",
    "    \n",
    "    data['url'] = url_article\n",
    "    \n",
    "    soup = BeautifulSoup(r.content, 'lxml')\n",
    "    \n",
    "    try:\n",
    "        data['canonical_url'] = soup.find('link', {'rel': 'canonical'})['href']\n",
    "    except:\n",
    "        pass\n",
    "    \n",
    "    try:\n",
    "        data['slug'] = data['canonical_url'].split('/')[-2] if data['canonical_url'] else np.nan\n",
    "    except:\n",
    "        pass\n",
    "\n",
    "    try:\n",
    "        data['meta_title'] = soup.find('meta', {'property': 'og:title'})['content']\n",
    "    except:\n",
    "        pass\n",
    "\n",
    "    try:\n",
    "        data['meta_desc'] = soup.find('meta', {'property': 'og:description'})['content']\n",
    "    except:\n",
    "        pass\n",
    "\n",
    "    try:\n",
    "        data['date_published'] = pd.to_datetime(soup.find('meta', {'property': 'article:published_time'})['content'][:-6], utc=True)\n",
    "    except:\n",
    "        pass\n",
    "\n",
    "    try:\n",
    "        data['date_modified'] = pd.to_datetime(soup.find('meta', {'property': 'article:modified_time'})['content'][:-6], utc=True)\n",
    "    except:\n",
    "        pass\n",
    "\n",
    "    try:\n",
    "        data['author'] = soup.find(\"meta\", {'name': 'author'})['content']\n",
    "    except:\n",
    "        try:\n",
    "            data['author'] = soup.find(class_=\"author\").text.split('Publié par ')[-1]\n",
    "        except:\n",
    "            pass\n",
    "\n",
    "    try:\n",
    "        data['title'] = soup.find('h1').text\n",
    "    except:\n",
    "        pass\n",
    "\n",
    "    try:\n",
    "        data['category'] = [x.text for x in soup.find_all(class_=\"tdb-entry-category\")]\n",
    "    except:\n",
    "        pass\n",
    "\n",
    "    try:\n",
    "        data['views'] = int(soup.find('span', class_=lambda x: x and x.startswith('td-nr-views-')).text)\n",
    "    except:\n",
    "        pass\n",
    "\n",
    "    try:\n",
    "        data['reading_time'] = int(soup.find('meta', {'name': 'twitter:data2'})['content'].split(' ')[0]) if soup.find('meta', {'name': 'twitter:data2'}) and 'minutes' in soup.find('meta', {'name': 'twitter:data2'})['content'] else np.nan\n",
    "    except:\n",
    "        pass\n",
    "\n",
    "    try:\n",
    "        data['content'] = BeautifulSoup(str(soup.find(\"div\", class_=\"td-post-content\")), 'lxml').get_text()\n",
    "    except:\n",
    "        pass\n",
    "\n",
    "    try:\n",
    "        data['raw_content'] = str(soup.find(\"div\", class_=\"td-post-content\"))\n",
    "    except:\n",
    "        pass\n",
    "\n",
    "    # Ajout de features\n",
    "    data['length'] = len(str(data['content']).split())\n",
    "    \n",
    "    if pd.notnull(data['date_published']):\n",
    "        data['days_since_published'] = int((pd.Timestamp.now(tz='UTC') - data['date_published']).days)\n",
    "    else:\n",
    "        data['days_since_published'] = np.nan\n",
    "    \n",
    "    # Création de la série\n",
    "    series = pd.Series(data)\n",
    "    series.name = url_article\n",
    "    \n",
    "    # Ajout de features supplémentaires\n",
    "    if pd.notnull(data.get('views')) and pd.notnull(data.get('days_since_published')):\n",
    "        series['views_daily'] = series['views'] / series['days_since_published']\n",
    "        series['views_monthly'] = series['views_daily'] * 30\n",
    "    else:\n",
    "        series['views_daily'] = np.nan\n",
    "        series['views_monthly'] = np.nan\n",
    "    \n",
    "    series['website'] = top_url\n",
    "    \n",
    "    return series"
   ]
  },
  {
   "cell_type": "markdown",
   "metadata": {},
   "source": [
    "## Fonction finale"
   ]
  },
  {
   "cell_type": "code",
   "execution_count": 9,
   "metadata": {},
   "outputs": [
    {
     "data": {
      "application/vnd.jupyter.widget-view+json": {
       "model_id": "1798a651376946fda960304236313df7",
       "version_major": 2,
       "version_minor": 0
      },
      "text/plain": [
       "  0%|          | 0/5 [00:00<?, ?it/s]"
      ]
     },
     "metadata": {},
     "output_type": "display_data"
    }
   ],
   "source": [
    "article_list = get_articles_on_page(get_all_results_pages(get_max_page_results(top_search_url)))"
   ]
  },
  {
   "cell_type": "markdown",
   "metadata": {},
   "source": [
    "### Fonction finale"
   ]
  },
  {
   "cell_type": "code",
   "execution_count": 10,
   "metadata": {},
   "outputs": [
    {
     "data": {
      "application/vnd.jupyter.widget-view+json": {
       "model_id": "d7f27c112e784816bc7f28608a0592c5",
       "version_major": 2,
       "version_minor": 0
      },
      "text/plain": [
       "Batch 1 / 2:   0%|          | 0/250 [00:00<?, ?it/s]"
      ]
     },
     "metadata": {},
     "output_type": "display_data"
    },
    {
     "data": {
      "application/vnd.jupyter.widget-view+json": {
       "model_id": "6a810b13bce44f95868770ca9fbe29f8",
       "version_major": 2,
       "version_minor": 0
      },
      "text/plain": [
       "Batch 2 / 2:   0%|          | 0/14 [00:00<?, ?it/s]"
      ]
     },
     "metadata": {},
     "output_type": "display_data"
    },
    {
     "name": "stdout",
     "output_type": "stream",
     "text": [
      "Scraping terminé. Total d'articles : 264\n",
      "20.4048810005188\n"
     ]
    }
   ],
   "source": [
    "# Import des packages\n",
    "from concurrent.futures import ThreadPoolExecutor, as_completed\n",
    "import time\n",
    "\n",
    "# Initialisation du compteur\n",
    "start_time = time.time()\n",
    "\n",
    "# Fonction principale qui sauvegarde le DataFrame dans un fichier CSV et le retourne\n",
    "def scrape_all_articles(urls, batch_size=250, max_workers=20):\n",
    "    # Initialisation d'une session réutilisable\n",
    "    session = rq.Session()\n",
    "\n",
    "    # Création d'une fonction qui traite chaque URL\n",
    "    def process_url(url):\n",
    "            try:\n",
    "                r = session.get(url)\n",
    "                return get_article_info(r, url)\n",
    "            except Exception as e:\n",
    "                print(f\"Erreur pour {url}: {str(e)}\")\n",
    "                return pd.Series(name=url)\n",
    "\n",
    "    # Utilise ThreadPoolExecutor pour paralléliser le traitement\n",
    "    results = []\n",
    "    with ThreadPoolExecutor(max_workers=max_workers) as executor:\n",
    "        # Parcourt la liste d'URLs par lots de taille 'batch_size'\n",
    "        for i in range(0, len(urls), batch_size):\n",
    "            # Extrait un lot d'URLs\n",
    "            batch = urls[i:i+batch_size]\n",
    "            # Crée et soumet des tâches pour chaque URL du lot\n",
    "            futures = [executor.submit(process_url, url) for url in batch]\n",
    "            \n",
    "            # Traite les résultats au fur et à mesure qu'ils sont terminés\n",
    "            for future in tqdm(as_completed(futures), total=len(batch), desc=f\"Batch {i//batch_size + 1} / {len(urls)//batch_size+1}\"):\n",
    "                # Récupère le résultat de la tâche\n",
    "                result = future.result()\n",
    "                # Si le résultat n'est pas None (pas d'erreur), l'ajoute aux résultats\n",
    "                if result is not None:\n",
    "                    results.append(result)\n",
    "    \n",
    "    # Création du DataFrame final\n",
    "    df_final = pd.DataFrame(results)\n",
    "    \n",
    "    # Ajout de colonnes calculées\n",
    "    df_final['website'] = top_url\n",
    "    df_final['scraping_date'] = pd.Timestamp.now(tz='UTC')\n",
    "\n",
    "    df_final.columns = ['article_url', 'article_canonical_url', 'article_slug',\n",
    "       'article_meta_title', 'article_meta_desc', 'article_date_published',\n",
    "       'article_date_modified', 'article_author', 'article_title',\n",
    "       'article_category', 'article_views', 'article_reading_time',\n",
    "       'article_content', 'article_raw_content', 'article_length',\n",
    "       'days_since_published', 'article_views_daily', 'article_views_monthly',\n",
    "       'website', 'scraping_date']\n",
    "\n",
    "    # Sauvegarde en CSV\n",
    "    df_final.to_csv(f'scraping_{abbr}.csv', sep='|', index=True)\n",
    "    print(f\"Scraping terminé. Total d'articles : {len(df_final)}\")\n",
    "    return df_final\n",
    "\n",
    "df = scrape_all_articles(article_list)\n",
    "\n",
    "end_time = time.time()\n",
    "print(end_time - start_time)"
   ]
  },
  {
   "cell_type": "code",
   "execution_count": 11,
   "metadata": {},
   "outputs": [
    {
     "data": {
      "application/vnd.jupyter.widget-view+json": {
       "model_id": "01795c4000f341cb8eeb688297cc73ba",
       "version_major": 2,
       "version_minor": 0
      },
      "text/plain": [
       "Summarize dataset:   0%|          | 0/5 [00:00<?, ?it/s]"
      ]
     },
     "metadata": {},
     "output_type": "display_data"
    },
    {
     "name": "stderr",
     "output_type": "stream",
     "text": [
      "c:\\Users\\enzol\\anaconda3\\Lib\\site-packages\\ydata_profiling\\model\\correlations.py:66: UserWarning: There was an attempt to calculate the auto correlation, but this failed.\n",
      "To hide this warning, disable the calculation\n",
      "(using `df.profile_report(correlations={\"auto\": {\"calculate\": False}})`\n",
      "If this is problematic for your use case, please report this as an issue:\n",
      "https://github.com/ydataai/ydata-profiling/issues\n",
      "(include the error message: 'cannot reindex on an axis with duplicate labels')\n",
      "  warnings.warn(\n"
     ]
    },
    {
     "data": {
      "application/vnd.jupyter.widget-view+json": {
       "model_id": "9df820a0db8e44358d6383b45be3e5d7",
       "version_major": 2,
       "version_minor": 0
      },
      "text/plain": [
       "Generate report structure:   0%|          | 0/1 [00:00<?, ?it/s]"
      ]
     },
     "metadata": {},
     "output_type": "display_data"
    },
    {
     "data": {
      "application/vnd.jupyter.widget-view+json": {
       "model_id": "24f72a009b7746af8ee56ceaed2e64c7",
       "version_major": 2,
       "version_minor": 0
      },
      "text/plain": [
       "Render HTML:   0%|          | 0/1 [00:00<?, ?it/s]"
      ]
     },
     "metadata": {},
     "output_type": "display_data"
    },
    {
     "data": {
      "application/vnd.jupyter.widget-view+json": {
       "model_id": "1d7c0c8fe17a4db08f7a3d1c3e176ff3",
       "version_major": 2,
       "version_minor": 0
      },
      "text/plain": [
       "Export report to file:   0%|          | 0/1 [00:00<?, ?it/s]"
      ]
     },
     "metadata": {},
     "output_type": "display_data"
    }
   ],
   "source": [
    "# Création d'un rapport de profil avec pandas_profiling\n",
    "profile = ProfileReport(df, title=f\"{abbr.title()} Scraping Report\", explorative=True)\n",
    "\n",
    "# Génération du rapport au format HTML\n",
    "profile.to_file(f\"scraping_report_{abbr}.html\")"
   ]
  }
 ],
 "metadata": {
  "kernelspec": {
   "display_name": "base",
   "language": "python",
   "name": "python3"
  },
  "language_info": {
   "codemirror_mode": {
    "name": "ipython",
    "version": 3
   },
   "file_extension": ".py",
   "mimetype": "text/x-python",
   "name": "python",
   "nbconvert_exporter": "python",
   "pygments_lexer": "ipython3",
   "version": "3.12.7"
  }
 },
 "nbformat": 4,
 "nbformat_minor": 2
}
